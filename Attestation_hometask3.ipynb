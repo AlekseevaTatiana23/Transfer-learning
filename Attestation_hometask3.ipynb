{
  "cells": [
    {
      "cell_type": "markdown",
      "metadata": {
        "id": "view-in-github",
        "colab_type": "text"
      },
      "source": [
        "<a href=\"https://colab.research.google.com/github/AlekseevaTatiana23/Transfer-learning/blob/main/Attestation_hometask3.ipynb\" target=\"_parent\"><img src=\"https://colab.research.google.com/assets/colab-badge.svg\" alt=\"Open In Colab\"/></a>"
      ]
    },
    {
      "cell_type": "markdown",
      "id": "767c43a2",
      "metadata": {
        "id": "767c43a2"
      },
      "source": [
        "# Домашнее задание\n",
        "# Промежуточная аттестация\n",
        "\n",
        "Реализуйте классификацию эмоциональной окрашенности текстов при помощи объекта pipeline.\n",
        "\n",
        "1. Найдите тип задач Sentiment Analysis на huggingface.co\n",
        "2. Найдите модель для русского языка (примеры: rubert-tiny2..., rubert-base...)"
      ]
    },
    {
      "cell_type": "code",
      "execution_count": 11,
      "id": "c884826d",
      "metadata": {
        "colab": {
          "base_uri": "https://localhost:8080/"
        },
        "id": "c884826d",
        "outputId": "9f7fe56a-b08b-465e-9a94-1039fc716bd2"
      },
      "outputs": [
        {
          "output_type": "stream",
          "name": "stderr",
          "text": [
            "Asking to truncate to max_length but no maximum length is provided and the model has no predefined maximum length. Default to no truncation.\n"
          ]
        },
        {
          "output_type": "stream",
          "name": "stdout",
          "text": [
            "Текст: Мне очень понравился этот фильм!\n",
            "Эмоция: Положительное (уверенность: 0.98)\n"
          ]
        }
      ],
      "source": [
        "from transformers import AutoTokenizer, AutoModelForSequenceClassification\n",
        "import torch\n",
        "\n",
        "# Загружаем модель и токенизатор\n",
        "model_name = \"blanchefort/rubert-base-cased-sentiment\"\n",
        "tokenizer = AutoTokenizer.from_pretrained(model_name)\n",
        "model = AutoModelForSequenceClassification.from_pretrained(model_name)\n",
        "\n",
        "# Словарь меток на русском\n",
        "label_ru = {\n",
        "    'POSITIVE': 'Положительное',\n",
        "    'NEUTRAL': 'Нейтральное',\n",
        "    'NEGATIVE': 'Отрицательное'\n",
        "}\n",
        "\n",
        "def get_label_ru(text, label_ru, model):\n",
        "    # Токенизация текста\n",
        "    inputs = tokenizer(text, return_tensors=\"pt\", truncation=True, padding=True)\n",
        "    # Получение предсказания\n",
        "    with torch.no_grad():\n",
        "        output = model(**inputs)\n",
        "    logits = output.logits\n",
        "    probs = torch.nn.functional.softmax(logits, dim=1)\n",
        "    max_prob, pred_idx = torch.max(probs, dim=1)\n",
        "    label_id = pred_idx.item()\n",
        "    # В модели есть свойство `label2id`, можно проверить\n",
        "    label = model.config.id2label[label_id]\n",
        "    score = max_prob.item()\n",
        "\n",
        "    # Возвращаем метку по русски и вероятность\n",
        "    return label_ru[label], round(score, 2)\n",
        "\n",
        "# Пример использования\n",
        "text = \"Мне очень понравился этот фильм!\"\n",
        "label, confidence = get_label_ru(text, label_ru, model)\n",
        "print(f\"Текст: {text}\\nЭмоция: {label} (уверенность: {confidence})\")"
      ]
    }
  ],
  "metadata": {
    "kernelspec": {
      "display_name": "Python 3 (ipykernel)",
      "language": "python",
      "name": "python3"
    },
    "language_info": {
      "codemirror_mode": {
        "name": "ipython",
        "version": 3
      },
      "file_extension": ".py",
      "mimetype": "text/x-python",
      "name": "python",
      "nbconvert_exporter": "python",
      "pygments_lexer": "ipython3",
      "version": "3.11.5"
    },
    "colab": {
      "provenance": [],
      "include_colab_link": true
    }
  },
  "nbformat": 4,
  "nbformat_minor": 5
}